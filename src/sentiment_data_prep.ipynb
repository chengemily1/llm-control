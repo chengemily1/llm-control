{
 "cells": [
  {
   "cell_type": "code",
   "execution_count": 37,
   "id": "aa445b5f",
   "metadata": {},
   "outputs": [],
   "source": [
    "import json\n",
    "import pandas as pd\n",
    "import numpy as np"
   ]
  },
  {
   "cell_type": "code",
   "execution_count": 8,
   "id": "5656a8e9",
   "metadata": {},
   "outputs": [],
   "source": [
    "sentiment_data = []\n",
    "for x in ['positive', 'negative', 'neutral']:\n",
    "    with open('/home/echeng/llm-control/experiments/prompts/sentiment_prompts-10k/positive_prompts.jsonl', 'r') as f:\n",
    "        l = [json.loads(line) for line in f]\n",
    "    l = l[:100]\n",
    "    for pt in l:\n",
    "        pt['prompt'] = pt['prompt']['text']\n",
    "        pt['continuation'] = pt['continuation']['text']\n",
    "        pt['class'] = x\n",
    "        sentiment_data.append(pt)\n",
    "sentiment_df = pd.DataFrame(sentiment_data)"
   ]
  },
  {
   "cell_type": "code",
   "execution_count": 9,
   "id": "5e0e5055",
   "metadata": {},
   "outputs": [
    {
     "data": {
      "text/html": [
       "<div>\n",
       "<style scoped>\n",
       "    .dataframe tbody tr th:only-of-type {\n",
       "        vertical-align: middle;\n",
       "    }\n",
       "\n",
       "    .dataframe tbody tr th {\n",
       "        vertical-align: top;\n",
       "    }\n",
       "\n",
       "    .dataframe thead th {\n",
       "        text-align: right;\n",
       "    }\n",
       "</style>\n",
       "<table border=\"1\" class=\"dataframe\">\n",
       "  <thead>\n",
       "    <tr style=\"text-align: right;\">\n",
       "      <th></th>\n",
       "      <th>md5_hash</th>\n",
       "      <th>prompt</th>\n",
       "      <th>continuation</th>\n",
       "      <th>num_positive</th>\n",
       "      <th>class</th>\n",
       "    </tr>\n",
       "  </thead>\n",
       "  <tbody>\n",
       "    <tr>\n",
       "      <th>0</th>\n",
       "      <td>c407590bd7adee91c20e54cb3e8d9407</td>\n",
       "      <td>\"It sticks true to</td>\n",
       "      <td>end of this series.</td>\n",
       "      <td>25</td>\n",
       "      <td>positive</td>\n",
       "    </tr>\n",
       "    <tr>\n",
       "      <th>1</th>\n",
       "      <td>071313d997ab550da23b46fa9b498f33</td>\n",
       "      <td>Loyal fans never miss</td>\n",
       "      <td>an important match.</td>\n",
       "      <td>25</td>\n",
       "      <td>positive</td>\n",
       "    </tr>\n",
       "    <tr>\n",
       "      <th>2</th>\n",
       "      <td>a8f9b1cca05dcd8036f6fb24a1f9f838</td>\n",
       "      <td>Confucianism is deeply rooted in</td>\n",
       "      <td>societies of east asia.</td>\n",
       "      <td>25</td>\n",
       "      <td>positive</td>\n",
       "    </tr>\n",
       "    <tr>\n",
       "      <th>3</th>\n",
       "      <td>62462719fff1c24d6e798403222fd3ca</td>\n",
       "      <td>A President unafraid to stand</td>\n",
       "      <td>for veterans and God!</td>\n",
       "      <td>25</td>\n",
       "      <td>positive</td>\n",
       "    </tr>\n",
       "    <tr>\n",
       "      <th>4</th>\n",
       "      <td>6ef1539c763591976580201fb2bb67c9</td>\n",
       "      <td>\"I am delighted to</td>\n",
       "      <td>have been working on this.</td>\n",
       "      <td>25</td>\n",
       "      <td>positive</td>\n",
       "    </tr>\n",
       "    <tr>\n",
       "      <th>...</th>\n",
       "      <td>...</td>\n",
       "      <td>...</td>\n",
       "      <td>...</td>\n",
       "      <td>...</td>\n",
       "      <td>...</td>\n",
       "    </tr>\n",
       "    <tr>\n",
       "      <th>295</th>\n",
       "      <td>476429b813700ecd2b5801f184a9f6c5</td>\n",
       "      <td>It is the full and true reality of our present</td>\n",
       "      <td>communion and participation in the One life of...</td>\n",
       "      <td>25</td>\n",
       "      <td>neutral</td>\n",
       "    </tr>\n",
       "    <tr>\n",
       "      <th>296</th>\n",
       "      <td>106e0c818282bcc215ad2d4202e1e442</td>\n",
       "      <td>Be the first to hear about Nation Travels dest...</td>\n",
       "      <td>, and explore the world with kindred spirits.</td>\n",
       "      <td>25</td>\n",
       "      <td>neutral</td>\n",
       "    </tr>\n",
       "    <tr>\n",
       "      <th>297</th>\n",
       "      <td>8efc4885a8e67d2fe30f2932d5bc326d</td>\n",
       "      <td>Being able to share and connect</td>\n",
       "      <td>with other people was pretty humbling.</td>\n",
       "      <td>25</td>\n",
       "      <td>neutral</td>\n",
       "    </tr>\n",
       "    <tr>\n",
       "      <th>298</th>\n",
       "      <td>36de9611420ddc6cb6e838ba53db72c4</td>\n",
       "      <td>Gill provides the Supreme Court with an opport...</td>\n",
       "      <td>a clear line on the constitutionality of parti...</td>\n",
       "      <td>25</td>\n",
       "      <td>neutral</td>\n",
       "    </tr>\n",
       "    <tr>\n",
       "      <th>299</th>\n",
       "      <td>abd18814feeee1a6075ef3bb40f6929b</td>\n",
       "      <td>The win marks the first shutout for Reign FC (</td>\n",
       "      <td>3-1-3, 12 pts) against the Dash since 2015.</td>\n",
       "      <td>25</td>\n",
       "      <td>neutral</td>\n",
       "    </tr>\n",
       "  </tbody>\n",
       "</table>\n",
       "<p>300 rows × 5 columns</p>\n",
       "</div>"
      ],
      "text/plain": [
       "                             md5_hash  \\\n",
       "0    c407590bd7adee91c20e54cb3e8d9407   \n",
       "1    071313d997ab550da23b46fa9b498f33   \n",
       "2    a8f9b1cca05dcd8036f6fb24a1f9f838   \n",
       "3    62462719fff1c24d6e798403222fd3ca   \n",
       "4    6ef1539c763591976580201fb2bb67c9   \n",
       "..                                ...   \n",
       "295  476429b813700ecd2b5801f184a9f6c5   \n",
       "296  106e0c818282bcc215ad2d4202e1e442   \n",
       "297  8efc4885a8e67d2fe30f2932d5bc326d   \n",
       "298  36de9611420ddc6cb6e838ba53db72c4   \n",
       "299  abd18814feeee1a6075ef3bb40f6929b   \n",
       "\n",
       "                                                prompt  \\\n",
       "0                                   \"It sticks true to   \n",
       "1                                Loyal fans never miss   \n",
       "2                     Confucianism is deeply rooted in   \n",
       "3                        A President unafraid to stand   \n",
       "4                                   \"I am delighted to   \n",
       "..                                                 ...   \n",
       "295     It is the full and true reality of our present   \n",
       "296  Be the first to hear about Nation Travels dest...   \n",
       "297                    Being able to share and connect   \n",
       "298  Gill provides the Supreme Court with an opport...   \n",
       "299     The win marks the first shutout for Reign FC (   \n",
       "\n",
       "                                          continuation  num_positive     class  \n",
       "0                                  end of this series.            25  positive  \n",
       "1                                  an important match.            25  positive  \n",
       "2                              societies of east asia.            25  positive  \n",
       "3                                for veterans and God!            25  positive  \n",
       "4                           have been working on this.            25  positive  \n",
       "..                                                 ...           ...       ...  \n",
       "295  communion and participation in the One life of...            25   neutral  \n",
       "296      , and explore the world with kindred spirits.            25   neutral  \n",
       "297             with other people was pretty humbling.            25   neutral  \n",
       "298  a clear line on the constitutionality of parti...            25   neutral  \n",
       "299        3-1-3, 12 pts) against the Dash since 2015.            25   neutral  \n",
       "\n",
       "[300 rows x 5 columns]"
      ]
     },
     "execution_count": 9,
     "metadata": {},
     "output_type": "execute_result"
    }
   ],
   "source": [
    "sentiment_df"
   ]
  },
  {
   "cell_type": "code",
   "execution_count": 10,
   "id": "7100bb55",
   "metadata": {},
   "outputs": [],
   "source": [
    "sentiment_df.to_csv('/home/echeng/llm-control/experiments/test_sentiment.csv')"
   ]
  },
  {
   "cell_type": "code",
   "execution_count": 29,
   "id": "fec22423",
   "metadata": {},
   "outputs": [],
   "source": [
    "toxicity_df = []\n",
    "with open('/home/echeng/llm-control/experiments/prompts/nontoxic_prompts-10k.jsonl', 'r') as f:\n",
    "    l = [json.loads(line) for line in f]\n",
    "    for pt in l:\n",
    "        if 'toxicity' in pt['continuation'] and 'toxicity' in pt['prompt']:\n",
    "            if pt['continuation']['toxicity'] is None or pt['prompt']['toxicity'] is None: continue\n",
    "            pt['continuation_toxic'] = int(pt['continuation']['toxicity'] > 0.5)\n",
    "            pt['prompt_toxic'] = int(pt['prompt']['toxicity'] > 0.5)\n",
    "            pt['continuation'], pt['prompt'] = pt['continuation']['text'], pt['prompt']['text']\n",
    "            \n",
    "            toxicity_df.append(pt)\n",
    "        else:\n",
    "            continue\n",
    "                                    "
   ]
  },
  {
   "cell_type": "code",
   "execution_count": 30,
   "id": "b38cd4d6",
   "metadata": {},
   "outputs": [],
   "source": [
    "toxicity_df = pd.DataFrame(l).drop(columns=['challenging'])"
   ]
  },
  {
   "cell_type": "code",
   "execution_count": 41,
   "id": "4e1ba679",
   "metadata": {},
   "outputs": [],
   "source": [
    "toxic = toxicity_df[toxicity_df['continuation_toxic'] == 1].sample(150)\n",
    "untoxic = toxicity_df[toxicity_df['continuation_toxic'] == 0].sample(150)\n",
    "toxicity_df = pd.concat([toxic, untoxic])"
   ]
  },
  {
   "cell_type": "code",
   "execution_count": 43,
   "id": "e21aa745",
   "metadata": {},
   "outputs": [],
   "source": [
    "toxicity_df.to_csv('/home/echeng/llm-control/experiments/test_toxicity.csv')"
   ]
  },
  {
   "cell_type": "markdown",
   "id": "fecb69f8-9e20-4dcc-a634-f7e3bf162712",
   "metadata": {},
   "source": [
    "## Compile constraint set for sentiment"
   ]
  },
  {
   "cell_type": "code",
   "execution_count": 15,
   "id": "1b70b1fc-16f5-4233-8548-44d52465b7af",
   "metadata": {},
   "outputs": [],
   "source": [
    "from datasets import load_dataset\n",
    "from tqdm import tqdm\n",
    "import pandas as pd"
   ]
  },
  {
   "cell_type": "code",
   "execution_count": 12,
   "id": "bc92e27f-2d30-4b13-9802-ba8def2701a7",
   "metadata": {},
   "outputs": [
    {
     "name": "stderr",
     "output_type": "stream",
     "text": [
      "100%|██████████| 5000/5000 [00:01<00:00, 3390.97it/s]\n",
      "100%|██████████| 5000/5000 [00:00<00:00, 14122.59it/s]\n",
      "100%|██████████| 5000/5000 [00:00<00:00, 5733.76it/s]\n",
      "100%|██████████| 5000/5000 [00:00<00:00, 5964.60it/s]\n",
      "100%|██████████| 5000/5000 [00:00<00:00, 7644.48it/s]\n",
      "100%|██████████| 5000/5000 [00:00<00:00, 7178.97it/s]\n",
      "100%|██████████| 5000/5000 [00:00<00:00, 5392.24it/s]\n",
      "100%|██████████| 5000/5000 [00:00<00:00, 7260.07it/s]\n",
      "100%|██████████| 5000/5000 [00:00<00:00, 7469.69it/s]\n",
      "100%|██████████| 5000/5000 [00:00<00:00, 7562.34it/s]\n",
      "100%|██████████| 5000/5000 [00:00<00:00, 7594.20it/s]\n",
      "100%|██████████| 5000/5000 [00:00<00:00, 6866.32it/s]\n",
      "100%|██████████| 5000/5000 [00:00<00:00, 7416.76it/s]\n",
      "100%|██████████| 5000/5000 [00:00<00:00, 7315.17it/s]\n",
      "100%|██████████| 5000/5000 [00:00<00:00, 7335.92it/s]\n",
      "100%|██████████| 5000/5000 [00:00<00:00, 7684.03it/s]\n",
      "100%|██████████| 5000/5000 [00:00<00:00, 6146.20it/s]\n",
      "100%|██████████| 5000/5000 [00:00<00:00, 7526.75it/s]\n",
      "100%|██████████| 5000/5000 [00:00<00:00, 6611.46it/s]\n",
      "100%|██████████| 5000/5000 [00:00<00:00, 6650.92it/s]\n",
      "100%|██████████| 5000/5000 [00:00<00:00, 5914.52it/s]\n",
      "100%|██████████| 5000/5000 [00:00<00:00, 7355.95it/s]\n",
      "100%|██████████| 5000/5000 [00:00<00:00, 6438.02it/s]\n",
      "100%|██████████| 5000/5000 [00:00<00:00, 7296.45it/s]\n",
      "100%|██████████| 5000/5000 [00:02<00:00, 2395.95it/s]\n",
      "100%|██████████| 5000/5000 [00:00<00:00, 7058.31it/s]\n",
      "100%|██████████| 5000/5000 [00:00<00:00, 5238.88it/s]\n",
      "100%|██████████| 5000/5000 [00:00<00:00, 7557.08it/s]\n",
      "100%|██████████| 5000/5000 [00:00<00:00, 7315.93it/s]\n",
      "100%|██████████| 5000/5000 [00:00<00:00, 7781.31it/s]\n",
      "100%|██████████| 5000/5000 [00:00<00:00, 7642.12it/s]\n",
      "100%|██████████| 5000/5000 [00:03<00:00, 1335.14it/s]\n",
      "100%|██████████| 5000/5000 [00:00<00:00, 7316.78it/s]\n",
      "100%|██████████| 5000/5000 [00:00<00:00, 6145.80it/s]\n"
     ]
    }
   ],
   "source": [
    "categories = ['raw_review_All_Beauty', 'raw_review_Toys_and_Games', 'raw_review_Cell_Phones_and_Accessories', 'raw_review_Industrial_and_Scientific', 'raw_review_Gift_Cards', 'raw_review_Musical_Instruments', 'raw_review_Electronics', 'raw_review_Handmade_Products', 'raw_review_Arts_Crafts_and_Sewing', 'raw_review_Baby_Products', 'raw_review_Health_and_Household', 'raw_review_Office_Products', 'raw_review_Digital_Music', 'raw_review_Grocery_and_Gourmet_Food', 'raw_review_Sports_and_Outdoors', 'raw_review_Home_and_Kitchen', 'raw_review_Subscription_Boxes', 'raw_review_Tools_and_Home_Improvement', 'raw_review_Pet_Supplies', 'raw_review_Video_Games', 'raw_review_Kindle_Store', 'raw_review_Clothing_Shoes_and_Jewelry', 'raw_review_Patio_Lawn_and_Garden', 'raw_review_Unknown', 'raw_review_Books', 'raw_review_Automotive', 'raw_review_CDs_and_Vinyl', 'raw_review_Beauty_and_Personal_Care', 'raw_review_Amazon_Fashion', 'raw_review_Magazine_Subscriptions', 'raw_review_Software', 'raw_review_Health_and_Personal_Care', 'raw_review_Appliances', 'raw_review_Movies_and_TV']\n",
    "\n",
    "data = []\n",
    "for category in categories:\n",
    "    amazon = iter(load_dataset('McAuley-Lab/Amazon-Reviews-2023', category, streaming=True)['full'])\n",
    "    \n",
    "    for _ in tqdm(range(5000)):\n",
    "        next_review = next(amazon)\n",
    "        if next_review is not None:\n",
    "            if next_review['rating'] != 3:\n",
    "                data.append(next_review)"
   ]
  },
  {
   "cell_type": "code",
   "execution_count": 16,
   "id": "e5399c25",
   "metadata": {},
   "outputs": [],
   "source": [
    "data_df = pd.DataFrame(data)"
   ]
  },
  {
   "cell_type": "code",
   "execution_count": 18,
   "id": "e448875e-8b06-4aa1-808d-5cd9b07059dc",
   "metadata": {},
   "outputs": [],
   "source": [
    "data_df['negative'] = data_df['rating'] < 3\n",
    "data_df = data_df[['negative', 'text']]"
   ]
  },
  {
   "cell_type": "code",
   "execution_count": 36,
   "id": "e460329a",
   "metadata": {},
   "outputs": [],
   "source": [
    "data_df = balance_labels('negative', data_df)"
   ]
  },
  {
   "cell_type": "code",
   "execution_count": 58,
   "id": "cb336ffc",
   "metadata": {},
   "outputs": [],
   "source": [
    "amazon = data_df"
   ]
  },
  {
   "cell_type": "code",
   "execution_count": 35,
   "id": "e4e16742",
   "metadata": {},
   "outputs": [],
   "source": [
    "# Load and shuffle the dataset\n",
    "def balance_labels(label_name, df):\n",
    "    labels = df[label_name]\n",
    "    minority = 1 if sum(labels) < 0.5 * len(labels) else 0\n",
    "    \n",
    "    # get all the minority labels\n",
    "    minority_df = df[df[label_name] == minority]\n",
    "    majority_df = df[df[label_name] == (1 if not minority else 0)].sample(len(minority_df))\n",
    "    \n",
    "    return pd.concat([minority_df, majority_df])"
   ]
  },
  {
   "cell_type": "code",
   "execution_count": 39,
   "id": "94b1c9b1",
   "metadata": {},
   "outputs": [
    {
     "data": {
      "application/vnd.jupyter.widget-view+json": {
       "model_id": "88332b26bca44298b9c950908c345ea9",
       "version_major": 2,
       "version_minor": 0
      },
      "text/plain": [
       "Downloading readme:   0%|          | 0.00/23.9k [00:00<?, ?B/s]"
      ]
     },
     "metadata": {},
     "output_type": "display_data"
    },
    {
     "data": {
      "application/vnd.jupyter.widget-view+json": {
       "model_id": "f782a890fc18405aa95c36f7dc8aaba4",
       "version_major": 2,
       "version_minor": 0
      },
      "text/plain": [
       "Downloading data files:   0%|          | 0/3 [00:00<?, ?it/s]"
      ]
     },
     "metadata": {},
     "output_type": "display_data"
    },
    {
     "data": {
      "application/vnd.jupyter.widget-view+json": {
       "model_id": "529640b08f914462b2ae82cc90016906",
       "version_major": 2,
       "version_minor": 0
      },
      "text/plain": [
       "Downloading data:   0%|          | 0.00/3.78M [00:00<?, ?B/s]"
      ]
     },
     "metadata": {},
     "output_type": "display_data"
    },
    {
     "data": {
      "application/vnd.jupyter.widget-view+json": {
       "model_id": "148249983ba14b26b7f0b052c87f674d",
       "version_major": 2,
       "version_minor": 0
      },
      "text/plain": [
       "Downloading data:   0%|          | 0.00/901k [00:00<?, ?B/s]"
      ]
     },
     "metadata": {},
     "output_type": "display_data"
    },
    {
     "data": {
      "application/vnd.jupyter.widget-view+json": {
       "model_id": "a047ba9454ea4e689be143c7d4d939c6",
       "version_major": 2,
       "version_minor": 0
      },
      "text/plain": [
       "Downloading data:   0%|          | 0.00/167k [00:00<?, ?B/s]"
      ]
     },
     "metadata": {},
     "output_type": "display_data"
    },
    {
     "data": {
      "application/vnd.jupyter.widget-view+json": {
       "model_id": "b50eb00e1d984d9db3e5dbb469eb52ec",
       "version_major": 2,
       "version_minor": 0
      },
      "text/plain": [
       "Extracting data files:   0%|          | 0/3 [00:00<?, ?it/s]"
      ]
     },
     "metadata": {},
     "output_type": "display_data"
    },
    {
     "data": {
      "application/vnd.jupyter.widget-view+json": {
       "model_id": "1c2aadc4aafe4862afe537e400661ba7",
       "version_major": 2,
       "version_minor": 0
      },
      "text/plain": [
       "Generating train split:   0%|          | 0/45615 [00:00<?, ? examples/s]"
      ]
     },
     "metadata": {},
     "output_type": "display_data"
    },
    {
     "data": {
      "application/vnd.jupyter.widget-view+json": {
       "model_id": "8635524979d949f5a16a065acc18429e",
       "version_major": 2,
       "version_minor": 0
      },
      "text/plain": [
       "Generating test split:   0%|          | 0/12284 [00:00<?, ? examples/s]"
      ]
     },
     "metadata": {},
     "output_type": "display_data"
    },
    {
     "data": {
      "application/vnd.jupyter.widget-view+json": {
       "model_id": "fb96a749062b4efaba66395530164b54",
       "version_major": 2,
       "version_minor": 0
      },
      "text/plain": [
       "Generating validation split:   0%|          | 0/2000 [00:00<?, ? examples/s]"
      ]
     },
     "metadata": {},
     "output_type": "display_data"
    }
   ],
   "source": [
    "tweets = load_dataset('cardiffnlp/tweet_eval', 'sentiment')['train']"
   ]
  },
  {
   "cell_type": "code",
   "execution_count": 41,
   "id": "2db44ecc",
   "metadata": {},
   "outputs": [],
   "source": [
    "tweets = pd.DataFrame(tweets)\n",
    "tweets['negative'] = tweets['label'] == 0\n",
    "tweets = tweets[['text', 'negative']]"
   ]
  },
  {
   "cell_type": "code",
   "execution_count": 43,
   "id": "2387f131",
   "metadata": {},
   "outputs": [],
   "source": [
    "tweets = balance_labels('negative', tweets)"
   ]
  },
  {
   "cell_type": "code",
   "execution_count": 44,
   "id": "e17884b7",
   "metadata": {},
   "outputs": [
    {
     "data": {
      "text/html": [
       "<div>\n",
       "<style scoped>\n",
       "    .dataframe tbody tr th:only-of-type {\n",
       "        vertical-align: middle;\n",
       "    }\n",
       "\n",
       "    .dataframe tbody tr th {\n",
       "        vertical-align: top;\n",
       "    }\n",
       "\n",
       "    .dataframe thead th {\n",
       "        text-align: right;\n",
       "    }\n",
       "</style>\n",
       "<table border=\"1\" class=\"dataframe\">\n",
       "  <thead>\n",
       "    <tr style=\"text-align: right;\">\n",
       "      <th></th>\n",
       "      <th>text</th>\n",
       "      <th>negative</th>\n",
       "    </tr>\n",
       "  </thead>\n",
       "  <tbody>\n",
       "    <tr>\n",
       "      <th>7</th>\n",
       "      <td>So disappointed in wwe summerslam! I want to s...</td>\n",
       "      <td>True</td>\n",
       "    </tr>\n",
       "    <tr>\n",
       "      <th>13</th>\n",
       "      <td>That sucks if you have to take the SATs tomorrow</td>\n",
       "      <td>True</td>\n",
       "    </tr>\n",
       "    <tr>\n",
       "      <th>18</th>\n",
       "      <td>Amy Schumer sat down with The Hollywood Report...</td>\n",
       "      <td>True</td>\n",
       "    </tr>\n",
       "    <tr>\n",
       "      <th>42</th>\n",
       "      <td>@user how the hell does every one else get to ...</td>\n",
       "      <td>True</td>\n",
       "    </tr>\n",
       "    <tr>\n",
       "      <th>50</th>\n",
       "      <td>Thanks manager for putting me on the schedule ...</td>\n",
       "      <td>True</td>\n",
       "    </tr>\n",
       "    <tr>\n",
       "      <th>...</th>\n",
       "      <td>...</td>\n",
       "      <td>...</td>\n",
       "    </tr>\n",
       "    <tr>\n",
       "      <th>31610</th>\n",
       "      <td>he was level ffs! also, he may be a problem ch...</td>\n",
       "      <td>False</td>\n",
       "    </tr>\n",
       "    <tr>\n",
       "      <th>1899</th>\n",
       "      <td>Wahhh I forgot the 2nd goal was so pretty in t...</td>\n",
       "      <td>False</td>\n",
       "    </tr>\n",
       "    <tr>\n",
       "      <th>23827</th>\n",
       "      <td>@user Similarity between #Mohandas Gandhi &amp;amp...</td>\n",
       "      <td>False</td>\n",
       "    </tr>\n",
       "    <tr>\n",
       "      <th>6107</th>\n",
       "      <td>David Otunga says Brock Lesnar is the best ath...</td>\n",
       "      <td>False</td>\n",
       "    </tr>\n",
       "    <tr>\n",
       "      <th>26511</th>\n",
       "      <td>I don't have work tomorrow so I am going to wa...</td>\n",
       "      <td>False</td>\n",
       "    </tr>\n",
       "  </tbody>\n",
       "</table>\n",
       "<p>14186 rows × 2 columns</p>\n",
       "</div>"
      ],
      "text/plain": [
       "                                                    text  negative\n",
       "7      So disappointed in wwe summerslam! I want to s...      True\n",
       "13      That sucks if you have to take the SATs tomorrow      True\n",
       "18     Amy Schumer sat down with The Hollywood Report...      True\n",
       "42     @user how the hell does every one else get to ...      True\n",
       "50     Thanks manager for putting me on the schedule ...      True\n",
       "...                                                  ...       ...\n",
       "31610  he was level ffs! also, he may be a problem ch...     False\n",
       "1899   Wahhh I forgot the 2nd goal was so pretty in t...     False\n",
       "23827  @user Similarity between #Mohandas Gandhi &amp...     False\n",
       "6107   David Otunga says Brock Lesnar is the best ath...     False\n",
       "26511  I don't have work tomorrow so I am going to wa...     False\n",
       "\n",
       "[14186 rows x 2 columns]"
      ]
     },
     "execution_count": 44,
     "metadata": {},
     "output_type": "execute_result"
    }
   ],
   "source": [
    "tweets"
   ]
  },
  {
   "cell_type": "code",
   "execution_count": 45,
   "id": "5ac48c77",
   "metadata": {},
   "outputs": [
    {
     "data": {
      "application/vnd.jupyter.widget-view+json": {
       "model_id": "a4b167d065754d079aced9b69da3e8f5",
       "version_major": 2,
       "version_minor": 0
      },
      "text/plain": [
       "Downloading readme:   0%|          | 0.00/6.72k [00:00<?, ?B/s]"
      ]
     },
     "metadata": {},
     "output_type": "display_data"
    },
    {
     "data": {
      "application/vnd.jupyter.widget-view+json": {
       "model_id": "61460158057449e3ba9ddb972ea67f9a",
       "version_major": 2,
       "version_minor": 0
      },
      "text/plain": [
       "Downloading data files:   0%|          | 0/2 [00:00<?, ?it/s]"
      ]
     },
     "metadata": {},
     "output_type": "display_data"
    },
    {
     "data": {
      "application/vnd.jupyter.widget-view+json": {
       "model_id": "3dffc83744074b0f9a4227e8803fe350",
       "version_major": 2,
       "version_minor": 0
      },
      "text/plain": [
       "Downloading data:   0%|          | 0.00/299M [00:00<?, ?B/s]"
      ]
     },
     "metadata": {},
     "output_type": "display_data"
    },
    {
     "data": {
      "application/vnd.jupyter.widget-view+json": {
       "model_id": "4cb7a938e49d4228affb4b9f44f27134",
       "version_major": 2,
       "version_minor": 0
      },
      "text/plain": [
       "Downloading data:   0%|          | 0.00/23.5M [00:00<?, ?B/s]"
      ]
     },
     "metadata": {},
     "output_type": "display_data"
    },
    {
     "data": {
      "application/vnd.jupyter.widget-view+json": {
       "model_id": "2a878872f6514963a4a879051ae289ba",
       "version_major": 2,
       "version_minor": 0
      },
      "text/plain": [
       "Extracting data files:   0%|          | 0/2 [00:00<?, ?it/s]"
      ]
     },
     "metadata": {},
     "output_type": "display_data"
    },
    {
     "data": {
      "application/vnd.jupyter.widget-view+json": {
       "model_id": "c9837fab540544e1ac963b7748a312fb",
       "version_major": 2,
       "version_minor": 0
      },
      "text/plain": [
       "Generating train split:   0%|          | 0/650000 [00:00<?, ? examples/s]"
      ]
     },
     "metadata": {},
     "output_type": "display_data"
    },
    {
     "data": {
      "application/vnd.jupyter.widget-view+json": {
       "model_id": "493b0973902347878714868d5119efa2",
       "version_major": 2,
       "version_minor": 0
      },
      "text/plain": [
       "Generating test split:   0%|          | 0/50000 [00:00<?, ? examples/s]"
      ]
     },
     "metadata": {},
     "output_type": "display_data"
    }
   ],
   "source": [
    "yelp = load_dataset('Yelp/yelp_review_full')['train']"
   ]
  },
  {
   "cell_type": "code",
   "execution_count": 46,
   "id": "e00aa12a",
   "metadata": {},
   "outputs": [
    {
     "data": {
      "text/html": [
       "<div>\n",
       "<style scoped>\n",
       "    .dataframe tbody tr th:only-of-type {\n",
       "        vertical-align: middle;\n",
       "    }\n",
       "\n",
       "    .dataframe tbody tr th {\n",
       "        vertical-align: top;\n",
       "    }\n",
       "\n",
       "    .dataframe thead th {\n",
       "        text-align: right;\n",
       "    }\n",
       "</style>\n",
       "<table border=\"1\" class=\"dataframe\">\n",
       "  <thead>\n",
       "    <tr style=\"text-align: right;\">\n",
       "      <th></th>\n",
       "      <th>label</th>\n",
       "      <th>text</th>\n",
       "    </tr>\n",
       "  </thead>\n",
       "  <tbody>\n",
       "    <tr>\n",
       "      <th>0</th>\n",
       "      <td>4</td>\n",
       "      <td>dr. goldberg offers everything i look for in a...</td>\n",
       "    </tr>\n",
       "    <tr>\n",
       "      <th>1</th>\n",
       "      <td>1</td>\n",
       "      <td>Unfortunately, the frustration of being Dr. Go...</td>\n",
       "    </tr>\n",
       "    <tr>\n",
       "      <th>2</th>\n",
       "      <td>3</td>\n",
       "      <td>Been going to Dr. Goldberg for over 10 years. ...</td>\n",
       "    </tr>\n",
       "    <tr>\n",
       "      <th>3</th>\n",
       "      <td>3</td>\n",
       "      <td>Got a letter in the mail last week that said D...</td>\n",
       "    </tr>\n",
       "    <tr>\n",
       "      <th>4</th>\n",
       "      <td>0</td>\n",
       "      <td>I don't know what Dr. Goldberg was like before...</td>\n",
       "    </tr>\n",
       "  </tbody>\n",
       "</table>\n",
       "</div>"
      ],
      "text/plain": [
       "   label                                               text\n",
       "0      4  dr. goldberg offers everything i look for in a...\n",
       "1      1  Unfortunately, the frustration of being Dr. Go...\n",
       "2      3  Been going to Dr. Goldberg for over 10 years. ...\n",
       "3      3  Got a letter in the mail last week that said D...\n",
       "4      0  I don't know what Dr. Goldberg was like before..."
      ]
     },
     "execution_count": 46,
     "metadata": {},
     "output_type": "execute_result"
    }
   ],
   "source": [
    "yelp = pd.DataFrame(yelp)\n",
    "yelp.head()"
   ]
  },
  {
   "cell_type": "code",
   "execution_count": 47,
   "id": "c8fa739e",
   "metadata": {},
   "outputs": [],
   "source": [
    "yelp = yelp[yelp['label'] != 2]\n",
    "yelp['negative'] = yelp['label'] < 2"
   ]
  },
  {
   "cell_type": "code",
   "execution_count": 49,
   "id": "9b627e0e",
   "metadata": {},
   "outputs": [],
   "source": [
    "yelp = yelp[['text', 'negative']]\n",
    "yelp = balance_labels('negative', yelp)"
   ]
  },
  {
   "cell_type": "code",
   "execution_count": 50,
   "id": "f04ebdfa",
   "metadata": {},
   "outputs": [
    {
     "data": {
      "text/html": [
       "<div>\n",
       "<style scoped>\n",
       "    .dataframe tbody tr th:only-of-type {\n",
       "        vertical-align: middle;\n",
       "    }\n",
       "\n",
       "    .dataframe tbody tr th {\n",
       "        vertical-align: top;\n",
       "    }\n",
       "\n",
       "    .dataframe thead th {\n",
       "        text-align: right;\n",
       "    }\n",
       "</style>\n",
       "<table border=\"1\" class=\"dataframe\">\n",
       "  <thead>\n",
       "    <tr style=\"text-align: right;\">\n",
       "      <th></th>\n",
       "      <th>text</th>\n",
       "      <th>negative</th>\n",
       "    </tr>\n",
       "  </thead>\n",
       "  <tbody>\n",
       "    <tr>\n",
       "      <th>0</th>\n",
       "      <td>dr. goldberg offers everything i look for in a...</td>\n",
       "      <td>False</td>\n",
       "    </tr>\n",
       "    <tr>\n",
       "      <th>2</th>\n",
       "      <td>Been going to Dr. Goldberg for over 10 years. ...</td>\n",
       "      <td>False</td>\n",
       "    </tr>\n",
       "    <tr>\n",
       "      <th>3</th>\n",
       "      <td>Got a letter in the mail last week that said D...</td>\n",
       "      <td>False</td>\n",
       "    </tr>\n",
       "    <tr>\n",
       "      <th>5</th>\n",
       "      <td>Top notch doctor in a top notch practice. Can'...</td>\n",
       "      <td>False</td>\n",
       "    </tr>\n",
       "    <tr>\n",
       "      <th>6</th>\n",
       "      <td>Dr. Eric Goldberg is a fantastic doctor who ha...</td>\n",
       "      <td>False</td>\n",
       "    </tr>\n",
       "    <tr>\n",
       "      <th>...</th>\n",
       "      <td>...</td>\n",
       "      <td>...</td>\n",
       "    </tr>\n",
       "    <tr>\n",
       "      <th>46716</th>\n",
       "      <td>Unless you plan on buying a $5000.00 bike or n...</td>\n",
       "      <td>True</td>\n",
       "    </tr>\n",
       "    <tr>\n",
       "      <th>75787</th>\n",
       "      <td>Let me now tell you the story of Taco Bell on ...</td>\n",
       "      <td>True</td>\n",
       "    </tr>\n",
       "    <tr>\n",
       "      <th>167030</th>\n",
       "      <td>Such a 1 star place, but so cheap.  With taxes...</td>\n",
       "      <td>True</td>\n",
       "    </tr>\n",
       "    <tr>\n",
       "      <th>246981</th>\n",
       "      <td>I'm NOT saying don't eat here. I AM saying mak...</td>\n",
       "      <td>True</td>\n",
       "    </tr>\n",
       "    <tr>\n",
       "      <th>440928</th>\n",
       "      <td>Ordered the Calamari. It looked and tasted bur...</td>\n",
       "      <td>True</td>\n",
       "    </tr>\n",
       "  </tbody>\n",
       "</table>\n",
       "<p>520000 rows × 2 columns</p>\n",
       "</div>"
      ],
      "text/plain": [
       "                                                     text  negative\n",
       "0       dr. goldberg offers everything i look for in a...     False\n",
       "2       Been going to Dr. Goldberg for over 10 years. ...     False\n",
       "3       Got a letter in the mail last week that said D...     False\n",
       "5       Top notch doctor in a top notch practice. Can'...     False\n",
       "6       Dr. Eric Goldberg is a fantastic doctor who ha...     False\n",
       "...                                                   ...       ...\n",
       "46716   Unless you plan on buying a $5000.00 bike or n...      True\n",
       "75787   Let me now tell you the story of Taco Bell on ...      True\n",
       "167030  Such a 1 star place, but so cheap.  With taxes...      True\n",
       "246981  I'm NOT saying don't eat here. I AM saying mak...      True\n",
       "440928  Ordered the Calamari. It looked and tasted bur...      True\n",
       "\n",
       "[520000 rows x 2 columns]"
      ]
     },
     "execution_count": 50,
     "metadata": {},
     "output_type": "execute_result"
    }
   ],
   "source": [
    "yelp"
   ]
  },
  {
   "cell_type": "code",
   "execution_count": 51,
   "id": "760f684d",
   "metadata": {},
   "outputs": [
    {
     "data": {
      "application/vnd.jupyter.widget-view+json": {
       "model_id": "7873904c901a420a945790340bf734a1",
       "version_major": 2,
       "version_minor": 0
      },
      "text/plain": [
       "Downloading data files:   0%|          | 0/3 [00:00<?, ?it/s]"
      ]
     },
     "metadata": {},
     "output_type": "display_data"
    },
    {
     "data": {
      "application/vnd.jupyter.widget-view+json": {
       "model_id": "6ddfe9baa03949d88d2558ae88eaa067",
       "version_major": 2,
       "version_minor": 0
      },
      "text/plain": [
       "Extracting data files:   0%|          | 0/3 [00:00<?, ?it/s]"
      ]
     },
     "metadata": {},
     "output_type": "display_data"
    },
    {
     "data": {
      "application/vnd.jupyter.widget-view+json": {
       "model_id": "d5af1911c2de4aab9d38715b3b21d8cd",
       "version_major": 2,
       "version_minor": 0
      },
      "text/plain": [
       "Generating train split:   0%|          | 0/25000 [00:00<?, ? examples/s]"
      ]
     },
     "metadata": {},
     "output_type": "display_data"
    },
    {
     "data": {
      "application/vnd.jupyter.widget-view+json": {
       "model_id": "a30654131b4149d9a2e2132dd3caa923",
       "version_major": 2,
       "version_minor": 0
      },
      "text/plain": [
       "Generating test split:   0%|          | 0/25000 [00:00<?, ? examples/s]"
      ]
     },
     "metadata": {},
     "output_type": "display_data"
    },
    {
     "data": {
      "application/vnd.jupyter.widget-view+json": {
       "model_id": "b6945cbd134a4441bd1955cd2e20551a",
       "version_major": 2,
       "version_minor": 0
      },
      "text/plain": [
       "Generating unsupervised split:   0%|          | 0/50000 [00:00<?, ? examples/s]"
      ]
     },
     "metadata": {},
     "output_type": "display_data"
    }
   ],
   "source": [
    "imdb = load_dataset('stanfordnlp/imdb')['train']"
   ]
  },
  {
   "cell_type": "code",
   "execution_count": 53,
   "id": "21ca6571",
   "metadata": {},
   "outputs": [],
   "source": [
    "imdb = pd.DataFrame(imdb)\n",
    "imdb = imdb.rename(columns ={'plain_text': 'text'})"
   ]
  },
  {
   "cell_type": "code",
   "execution_count": 55,
   "id": "5f248946",
   "metadata": {},
   "outputs": [],
   "source": [
    "imdb['negative'] = imdb['label'] == 0"
   ]
  },
  {
   "cell_type": "code",
   "execution_count": 56,
   "id": "df5e99be",
   "metadata": {},
   "outputs": [],
   "source": [
    "imdb = balance_labels('negative', imdb)"
   ]
  },
  {
   "cell_type": "code",
   "execution_count": 66,
   "id": "47bb7e53",
   "metadata": {},
   "outputs": [],
   "source": [
    "dfs = []\n",
    "\n",
    "for df in imdb, yelp, tweets, amazon:\n",
    "    dfs.append(df[~df['negative']].sample(3750))\n",
    "    dfs.append(df[df['negative']].sample(3750))\n",
    "\n",
    "sentiment_df = pd.concat(dfs)"
   ]
  },
  {
   "cell_type": "code",
   "execution_count": 67,
   "id": "73f3db97",
   "metadata": {},
   "outputs": [],
   "source": [
    "sentiment_df = sentiment_df[['text', 'negative']]"
   ]
  },
  {
   "cell_type": "code",
   "execution_count": 70,
   "id": "5ff5654a",
   "metadata": {},
   "outputs": [],
   "source": [
    "shuffled_df = sentiment_df.sample(frac=1).reset_index(drop=True)"
   ]
  },
  {
   "cell_type": "code",
   "execution_count": 72,
   "id": "ec69530f",
   "metadata": {},
   "outputs": [],
   "source": [
    "shuffled_df.to_csv('/home/echeng/llm-control/sentiment-constraint-set/train_shuffled_balanced.csv')"
   ]
  },
  {
   "cell_type": "code",
   "execution_count": 73,
   "id": "9f3f1571",
   "metadata": {},
   "outputs": [
    {
     "data": {
      "text/html": [
       "<div>\n",
       "<style scoped>\n",
       "    .dataframe tbody tr th:only-of-type {\n",
       "        vertical-align: middle;\n",
       "    }\n",
       "\n",
       "    .dataframe tbody tr th {\n",
       "        vertical-align: top;\n",
       "    }\n",
       "\n",
       "    .dataframe thead th {\n",
       "        text-align: right;\n",
       "    }\n",
       "</style>\n",
       "<table border=\"1\" class=\"dataframe\">\n",
       "  <thead>\n",
       "    <tr style=\"text-align: right;\">\n",
       "      <th></th>\n",
       "      <th>text</th>\n",
       "      <th>negative</th>\n",
       "    </tr>\n",
       "  </thead>\n",
       "  <tbody>\n",
       "    <tr>\n",
       "      <th>0</th>\n",
       "      <td>This place has the best views in the valley fo...</td>\n",
       "      <td>False</td>\n",
       "    </tr>\n",
       "    <tr>\n",
       "      <th>1</th>\n",
       "      <td>First beware reviews by employees friends or o...</td>\n",
       "      <td>True</td>\n",
       "    </tr>\n",
       "    <tr>\n",
       "      <th>2</th>\n",
       "      <td>Dieter Bohlen, Germany's notorious composer an...</td>\n",
       "      <td>True</td>\n",
       "    </tr>\n",
       "    <tr>\n",
       "      <th>3</th>\n",
       "      <td>This one is okay stocked but sometimes you nee...</td>\n",
       "      <td>True</td>\n",
       "    </tr>\n",
       "    <tr>\n",
       "      <th>4</th>\n",
       "      <td>The first half was OK, but the last half reall...</td>\n",
       "      <td>True</td>\n",
       "    </tr>\n",
       "    <tr>\n",
       "      <th>...</th>\n",
       "      <td>...</td>\n",
       "      <td>...</td>\n",
       "    </tr>\n",
       "    <tr>\n",
       "      <th>29995</th>\n",
       "      <td>Okay. So there aren't really that many great m...</td>\n",
       "      <td>True</td>\n",
       "    </tr>\n",
       "    <tr>\n",
       "      <th>29996</th>\n",
       "      <td>This is a great size that hold quite a few pil...</td>\n",
       "      <td>False</td>\n",
       "    </tr>\n",
       "    <tr>\n",
       "      <th>29997</th>\n",
       "      <td>The service was terrible. The counter help cou...</td>\n",
       "      <td>True</td>\n",
       "    </tr>\n",
       "    <tr>\n",
       "      <th>29998</th>\n",
       "      <td>Khan says Chisora won\\u2019t be the same after...</td>\n",
       "      <td>True</td>\n",
       "    </tr>\n",
       "    <tr>\n",
       "      <th>29999</th>\n",
       "      <td>I was going to give it one star, but since its...</td>\n",
       "      <td>True</td>\n",
       "    </tr>\n",
       "  </tbody>\n",
       "</table>\n",
       "<p>30000 rows × 2 columns</p>\n",
       "</div>"
      ],
      "text/plain": [
       "                                                    text  negative\n",
       "0      This place has the best views in the valley fo...     False\n",
       "1      First beware reviews by employees friends or o...      True\n",
       "2      Dieter Bohlen, Germany's notorious composer an...      True\n",
       "3      This one is okay stocked but sometimes you nee...      True\n",
       "4      The first half was OK, but the last half reall...      True\n",
       "...                                                  ...       ...\n",
       "29995  Okay. So there aren't really that many great m...      True\n",
       "29996  This is a great size that hold quite a few pil...     False\n",
       "29997  The service was terrible. The counter help cou...      True\n",
       "29998  Khan says Chisora won\\u2019t be the same after...      True\n",
       "29999  I was going to give it one star, but since its...      True\n",
       "\n",
       "[30000 rows x 2 columns]"
      ]
     },
     "execution_count": 73,
     "metadata": {},
     "output_type": "execute_result"
    }
   ],
   "source": [
    "shuffled_df"
   ]
  },
  {
   "cell_type": "code",
   "execution_count": null,
   "id": "b437bc8d",
   "metadata": {},
   "outputs": [],
   "source": []
  }
 ],
 "metadata": {
  "kernelspec": {
   "display_name": "Python 3",
   "language": "python",
   "name": "python3"
  },
  "language_info": {
   "codemirror_mode": {
    "name": "ipython",
    "version": 3
   },
   "file_extension": ".py",
   "mimetype": "text/x-python",
   "name": "python",
   "nbconvert_exporter": "python",
   "pygments_lexer": "ipython3",
   "version": "3.10.8"
  }
 },
 "nbformat": 4,
 "nbformat_minor": 5
}
